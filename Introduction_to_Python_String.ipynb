{
  "cells": [
    {
      "cell_type": "markdown",
      "metadata": {
        "id": "view-in-github",
        "colab_type": "text"
      },
      "source": [
        "<a href=\"https://colab.research.google.com/github/njkhanday/Python_UPES/blob/main/Introduction_to_Python_String.ipynb\" target=\"_parent\"><img src=\"https://colab.research.google.com/assets/colab-badge.svg\" alt=\"Open In Colab\"/></a>"
      ]
    },
    {
      "cell_type": "code",
      "source": [
        "#Escape sequences\n",
        "print(\"The boy replies, \\\"My name is Aditya\\\"\")"
      ],
      "metadata": {
        "colab": {
          "base_uri": "https://localhost:8080/"
        },
        "id": "r3Xac3k6ixmM",
        "outputId": "ad1bcc0b-ff16-42b7-8e45-79f252b24a9b"
      },
      "execution_count": null,
      "outputs": [
        {
          "output_type": "stream",
          "name": "stdout",
          "text": [
            "The boy replies, \"My name is Aditya\"\n"
          ]
        }
      ]
    },
    {
      "cell_type": "code",
      "source": [
        "print(\"\\\\\")\n",
        "print(\"\\'\")\n",
        "print(\"\\\"\")\n",
        "#print(\"Hello\\fworld\")\n",
        "print(\"Hello\\nworld\")\n",
        "print(\"Hello\\tworld\")\n",
        "#print(\"\\056\")\n",
        "#print(\"\\x60\")"
      ],
      "metadata": {
        "colab": {
          "base_uri": "https://localhost:8080/"
        },
        "id": "I48St04hiz0P",
        "outputId": "23a9830c-57cf-4836-e249-d2d4daea5c72"
      },
      "execution_count": null,
      "outputs": [
        {
          "output_type": "stream",
          "name": "stdout",
          "text": [
            "\\\n",
            "'\n",
            "\"\n",
            "Hello\n",
            "world\n",
            "Hello\tworld\n"
          ]
        }
      ]
    },
    {
      "cell_type": "code",
      "source": [
        "print(R\"what is \\ your name?\")"
      ],
      "metadata": {
        "colab": {
          "base_uri": "https://localhost:8080/"
        },
        "id": "7QUY2rLWiz8U",
        "outputId": "65f9bedf-3e26-4bbe-fb8e-a0621d8502dc"
      },
      "execution_count": null,
      "outputs": [
        {
          "output_type": "stream",
          "name": "stdout",
          "text": [
            "what is \\ your name?\n"
          ]
        }
      ]
    },
    {
      "cell_type": "code",
      "source": [
        "#CASTING\n",
        "\n",
        "x = int(1)\n",
        "print(x)\n",
        "y = int(2.8)\n",
        "print(y)\n",
        "z = int(\"3\")\n",
        "print(z)\n",
        "print(type(z))"
      ],
      "metadata": {
        "colab": {
          "base_uri": "https://localhost:8080/"
        },
        "id": "WwBNZx9Mi0A8",
        "outputId": "cda1c8d4-2c58-4d4a-8d28-b443a6008925"
      },
      "execution_count": null,
      "outputs": [
        {
          "output_type": "stream",
          "name": "stdout",
          "text": [
            "1\n",
            "2\n",
            "3\n",
            "<class 'int'>\n"
          ]
        }
      ]
    },
    {
      "cell_type": "code",
      "source": [
        "x = float(1)\n",
        "print(x)\n",
        "y = float(2.8)\n",
        "print(y)\n",
        "z = float(\"3\")\n",
        "print(z)\n",
        "print(type(z))"
      ],
      "metadata": {
        "colab": {
          "base_uri": "https://localhost:8080/"
        },
        "id": "T_BpsicSi0Ey",
        "outputId": "f500e802-9ab4-4bca-9101-b8127e298a8b"
      },
      "execution_count": null,
      "outputs": [
        {
          "output_type": "stream",
          "name": "stdout",
          "text": [
            "1.0\n",
            "2.8\n",
            "3.0\n",
            "<class 'float'>\n"
          ]
        }
      ]
    },
    {
      "cell_type": "code",
      "source": [
        "x = str(1)\n",
        "print(x)\n",
        "y = str(2.8)\n",
        "print(y)\n",
        "z = str(\"3\")\n",
        "print(z)\n",
        "print(type(z))"
      ],
      "metadata": {
        "colab": {
          "base_uri": "https://localhost:8080/"
        },
        "id": "JSlyKnfMi0It",
        "outputId": "7d61aec5-5874-4356-9773-e77cbb0f08d3"
      },
      "execution_count": null,
      "outputs": [
        {
          "output_type": "stream",
          "name": "stdout",
          "text": [
            "1\n",
            "2.8\n",
            "3\n",
            "<class 'str'>\n"
          ]
        }
      ]
    },
    {
      "cell_type": "code",
      "source": [
        "#String Literals\n",
        "\n",
        "a = \"Hello,World\"\n",
        "print(a[4])"
      ],
      "metadata": {
        "colab": {
          "base_uri": "https://localhost:8080/"
        },
        "id": "XrC7h2Tmi0Mh",
        "outputId": "db0ba7c9-144a-479c-e8cd-104bf4acd839"
      },
      "execution_count": null,
      "outputs": [
        {
          "output_type": "stream",
          "name": "stdout",
          "text": [
            "o\n"
          ]
        }
      ]
    },
    {
      "cell_type": "code",
      "source": [
        "#Substring\n",
        "\n",
        "a = \"Hello,World\"\n",
        "print(a[2:5])"
      ],
      "metadata": {
        "colab": {
          "base_uri": "https://localhost:8080/"
        },
        "id": "LLRTcAz3i0QH",
        "outputId": "46b7ee7f-ec62-4d52-cf31-a998f2d2a53b"
      },
      "execution_count": null,
      "outputs": [
        {
          "output_type": "stream",
          "name": "stdout",
          "text": [
            "llo\n"
          ]
        }
      ]
    },
    {
      "cell_type": "code",
      "source": [
        "#strip()\n",
        "\n",
        "#Removes any white spaces from begining or the end\n",
        "\n",
        "a = \"    Hello,       World   \"\n",
        "print(a.strip())"
      ],
      "metadata": {
        "colab": {
          "base_uri": "https://localhost:8080/"
        },
        "id": "yKHAAHnWi0UW",
        "outputId": "b0acf08e-6f0e-4c76-c7af-25921ed03300"
      },
      "execution_count": null,
      "outputs": [
        {
          "output_type": "stream",
          "name": "stdout",
          "text": [
            "Hello,       World\n"
          ]
        }
      ]
    },
    {
      "cell_type": "code",
      "source": [
        "#Length\n",
        "\n",
        "a = \"Hello,       World\"\n",
        "print(len(a))"
      ],
      "metadata": {
        "colab": {
          "base_uri": "https://localhost:8080/"
        },
        "id": "p03eraOqi0xl",
        "outputId": "d376fffd-88b3-42e7-9450-f668defa5eb0"
      },
      "execution_count": null,
      "outputs": [
        {
          "output_type": "stream",
          "name": "stdout",
          "text": [
            "18\n"
          ]
        }
      ]
    },
    {
      "cell_type": "code",
      "source": [
        "#Lower OR Upper\n",
        "\n",
        "a = \"Hello,World\"\n",
        "print(a.lower())\n",
        "print(a.upper())"
      ],
      "metadata": {
        "colab": {
          "base_uri": "https://localhost:8080/"
        },
        "id": "cWwxw93LxgPr",
        "outputId": "2528d298-c2c4-44b9-8b0c-67650d5e62ac"
      },
      "execution_count": null,
      "outputs": [
        {
          "output_type": "stream",
          "name": "stdout",
          "text": [
            "hello,world\n",
            "HELLO,WORLD\n"
          ]
        }
      ]
    },
    {
      "cell_type": "code",
      "source": [
        "#Replace\n",
        "\n",
        "a = \"Hello,World\"\n",
        "print(a.replace(\"He\",\"J\"))"
      ],
      "metadata": {
        "colab": {
          "base_uri": "https://localhost:8080/"
        },
        "id": "lrWlLdnGxgS5",
        "outputId": "5807771f-fc7e-4704-b55d-9813e19bc04b"
      },
      "execution_count": null,
      "outputs": [
        {
          "output_type": "stream",
          "name": "stdout",
          "text": [
            "Jllo,World\n"
          ]
        }
      ]
    },
    {
      "cell_type": "code",
      "source": [
        "#Split\n",
        "a = \"Hello,World\"\n",
        "print(a.split(\",\"))\n",
        "print(a.split(\"r\"))"
      ],
      "metadata": {
        "colab": {
          "base_uri": "https://localhost:8080/"
        },
        "id": "dW6Jmj9-xgV-",
        "outputId": "ce2ad063-f742-4c15-9db8-b171960b0605"
      },
      "execution_count": null,
      "outputs": [
        {
          "output_type": "stream",
          "name": "stdout",
          "text": [
            "['Hello', 'World']\n",
            "['Hello,Wo', 'ld']\n"
          ]
        }
      ]
    },
    {
      "cell_type": "code",
      "source": [
        "a = \"Hello,World\"\n",
        "print(a[2:5])\n",
        "print(a.replace(\"He\",\"J\"))\n",
        "print(a.split(\",\"))\n",
        "print(a)"
      ],
      "metadata": {
        "colab": {
          "base_uri": "https://localhost:8080/"
        },
        "id": "up4wxYU_xgZh",
        "outputId": "71c17196-27aa-48f5-fcd8-60bb43dba1a2"
      },
      "execution_count": null,
      "outputs": [
        {
          "output_type": "stream",
          "name": "stdout",
          "text": [
            "llo\n",
            "Jllo,World\n",
            "['Hello', 'World']\n",
            "Hello,World\n"
          ]
        }
      ]
    },
    {
      "cell_type": "code",
      "source": [
        "a = input(\"Enter the string\")\n",
        "print(a)\n",
        "print(a.upper())"
      ],
      "metadata": {
        "id": "ZUjoHO7hxgdB",
        "colab": {
          "base_uri": "https://localhost:8080/"
        },
        "outputId": "574ea2e5-33ee-415c-cda3-a53dd970db25"
      },
      "execution_count": null,
      "outputs": [
        {
          "output_type": "stream",
          "name": "stdout",
          "text": [
            "Enter the stringpython program\n",
            "python program\n",
            "PYTHON PROGRAM\n"
          ]
        }
      ]
    },
    {
      "cell_type": "code",
      "source": [
        "#SLICING\n",
        "\n",
        "b = \"Hello, World!\"\n",
        "print(b[2:5])\n",
        "\n",
        "b = \"Hello, World!\" #Slice From the Start (By leaving out the start index, the range will start at the first character)\n",
        "print(b[:5])\n",
        "\n",
        "b = \"Hello, World!\"  #Slice To the End (By leaving out the end index, the range will go to the end)\n",
        "print(b[2:])\n",
        "\n",
        "b = \"Hello, World!\"  #Negative Indexing (Use negative indexes to start the slice from the end of the string)\n",
        "print(b[-5:-2])"
      ],
      "metadata": {
        "id": "g6XX45Wexggs"
      },
      "execution_count": null,
      "outputs": []
    },
    {
      "cell_type": "code",
      "source": [
        "#String Formats\n",
        "\n",
        "age = 36\n",
        "txt = \"My name is ABC, and I am {}\"\n",
        "print(txt.format(age))"
      ],
      "metadata": {
        "colab": {
          "base_uri": "https://localhost:8080/"
        },
        "id": "-WFKC7zFyBpI",
        "outputId": "44bd4089-c35c-4f70-d132-7e368d43a1a6"
      },
      "execution_count": null,
      "outputs": [
        {
          "output_type": "stream",
          "name": "stdout",
          "text": [
            "My name is ABC, and I am 36\n"
          ]
        }
      ]
    },
    {
      "cell_type": "code",
      "source": [
        "#Use the format() method to insert numbers into strings\n",
        "\n",
        "age = 36\n",
        "txt = \"My name is John, and I am {}\"\n",
        "print(txt.format(age))"
      ],
      "metadata": {
        "colab": {
          "base_uri": "https://localhost:8080/"
        },
        "id": "0mG04d7xyBsq",
        "outputId": "3e88e0b5-6fd8-4234-8fce-a04d3d833a96"
      },
      "execution_count": null,
      "outputs": [
        {
          "output_type": "stream",
          "name": "stdout",
          "text": [
            "My name is John, and I am 36\n"
          ]
        }
      ]
    },
    {
      "cell_type": "code",
      "source": [
        "#Example\n",
        "\n",
        "quantity = 3\n",
        "item_no = 567\n",
        "price = 49.95\n",
        "myorder = \"I want {} pieces of item number {} for {} dollars.\"\n",
        "print(myorder.format(quantity, item_no, price))"
      ],
      "metadata": {
        "colab": {
          "base_uri": "https://localhost:8080/"
        },
        "id": "-OoB_138yBv8",
        "outputId": "cf6e076a-575d-4a4b-c6f5-e8ab833e062d"
      },
      "execution_count": null,
      "outputs": [
        {
          "output_type": "stream",
          "name": "stdout",
          "text": [
            "I want 3 pieces of item number 567 for 49.95 dollars.\n"
          ]
        }
      ]
    },
    {
      "cell_type": "code",
      "source": [
        "#You can use index numbers {0} to be sure the arguments are placed in the correct placeholders\n",
        "\n",
        "quantity = 3\n",
        "item_no = 567\n",
        "price = 49.95\n",
        "myorder = \"I want to pay {2} dollars for {0} pieces of item number{1}.\"\n",
        "print(myorder.format(quantity, item_no, price))"
      ],
      "metadata": {
        "colab": {
          "base_uri": "https://localhost:8080/"
        },
        "id": "CtSJzleuyBzV",
        "outputId": "b674db5a-efa6-48df-f375-8cd65f0bb4c1"
      },
      "execution_count": null,
      "outputs": [
        {
          "output_type": "stream",
          "name": "stdout",
          "text": [
            "I want to pay 49.95 dollars for 3 pieces of item number567.\n"
          ]
        }
      ]
    },
    {
      "cell_type": "code",
      "source": [
        "#########   STRING METHODS  ###############\n",
        "\n",
        "txt = \"python is FUN!\"\n",
        "\n",
        "x = txt.capitalize() #Upper case first letter of sentence\n",
        "#txt = \"36 is my age.\"\n",
        "\n",
        "print (x)"
      ],
      "metadata": {
        "colab": {
          "base_uri": "https://localhost:8080/"
        },
        "id": "FZdR1iXhyB2e",
        "outputId": "e5bb7ef7-0ea2-427c-a3d3-2370cc17f756"
      },
      "execution_count": null,
      "outputs": [
        {
          "output_type": "stream",
          "name": "stdout",
          "text": [
            "Python is fun!\n"
          ]
        }
      ]
    },
    {
      "cell_type": "code",
      "source": [
        "#Make the string lower case:\n",
        "txt = \"Hello, And Welcome To My World!\"\n",
        "\n",
        "x = txt.casefold()\n",
        "\n",
        "print(x)"
      ],
      "metadata": {
        "colab": {
          "base_uri": "https://localhost:8080/"
        },
        "id": "VcSBuO0l3iLe",
        "outputId": "708127db-e81c-4f01-b165-7bae1dc667c0"
      },
      "execution_count": null,
      "outputs": [
        {
          "output_type": "stream",
          "name": "stdout",
          "text": [
            "hello, and welcome to my world!\n"
          ]
        }
      ]
    },
    {
      "cell_type": "code",
      "source": [
        "#Print the word \"Python\", taking up the space of 20 characters, with \"banana\" in the middle:\n",
        "txt = \"Python\"\n",
        "\n",
        "x = txt.center(20)\n",
        "#x = txt.center(20, \"L\")\n",
        "\n",
        "print(x)"
      ],
      "metadata": {
        "colab": {
          "base_uri": "https://localhost:8080/"
        },
        "id": "tDbSih0_3iPC",
        "outputId": "851ad72e-cf62-47d2-8d25-efa3bc3bcd3a"
      },
      "execution_count": null,
      "outputs": [
        {
          "output_type": "stream",
          "name": "stdout",
          "text": [
            "LLLLLLLPythonLLLLLLL\n"
          ]
        }
      ]
    },
    {
      "cell_type": "code",
      "source": [
        "\"\"\"count()\tReturns the number of times a specified value occurs in a string\n",
        "encode()\tReturns an encoded version of the string\n",
        "endswith()\tReturns true if the string ends with the specified value\n",
        "expandtabs()\tSets the tab size of the string\n",
        "find()\tSearches the string for a specified value and returns the position of where it was found\n",
        "format()\tFormats specified values in a string\n",
        "format_map()\tFormats specified values in a string\n",
        "index()\tSearches the string for a specified value and returns the position of where it was found\n",
        "isalnum()\tReturns True if all characters in the string are alphanumeric\n",
        "isalpha()\tReturns True if all characters in the string are in the alphabet\n",
        "isascii()\tReturns True if all characters in the string are ascii characters\n",
        "isdecimal()\tReturns True if all characters in the string are decimals\n",
        "isdigit()\tReturns True if all characters in the string are digits\n",
        "isidentifier()\tReturns True if the string is an identifier\n",
        "islower()\tReturns True if all characters in the string are lower case\n",
        "isnumeric()\tReturns True if all characters in the string are numeric\n",
        "isprintable()\tReturns True if all characters in the string are printable\n",
        "isspace()\tReturns True if all characters in the string are whitespaces\n",
        "istitle() \tReturns True if the string follows the rules of a title\n",
        "isupper()\tReturns True if all characters in the string are upper case\n",
        "join()\tJoins the elements of an iterable to the end of the string\n",
        "ljust()\tReturns a left justified version of the string\n",
        "lower()\tConverts a string into lower case\n",
        "lstrip()\tReturns a left trim version of the string\n",
        "maketrans()\tReturns a translation table to be used in translations\n",
        "partition()\tReturns a tuple where the string is parted into three parts\n",
        "replace()\tReturns a string where a specified value is replaced with a specified value\n",
        "rfind()\tSearches the string for a specified value and returns the last position of where it was found\n",
        "rindex()\tSearches the string for a specified value and returns the last position of where it was found\n",
        "rjust()\tReturns a right justified version of the string\n",
        "rpartition()\tReturns a tuple where the string is parted into three parts\n",
        "rsplit()\tSplits the string at the specified separator, and returns a list\n",
        "rstrip()\tReturns a right trim version of the string\n",
        "split()\tSplits the string at the specified separator, and returns a list\n",
        "splitlines()\tSplits the string at line breaks and returns a list\n",
        "startswith()\tReturns true if the string starts with the specified value\n",
        "strip()\tReturns a trimmed version of the string\n",
        "swapcase()\tSwaps cases, lower case becomes upper case and vice versa\n",
        "title()\tConverts the first character of each word to upper case\n",
        "translate()\tReturns a translated string\n",
        "upper()\tConverts a string into upper case\n",
        "zfill()\tFills the string with a specified number of 0 values at the beginning\"\"\""
      ],
      "metadata": {
        "colab": {
          "base_uri": "https://localhost:8080/",
          "height": 143
        },
        "id": "0ShCUej23iSv",
        "outputId": "05dbfbe2-a361-4839-9e01-0bbe6af9304b"
      },
      "execution_count": null,
      "outputs": [
        {
          "output_type": "execute_result",
          "data": {
            "text/plain": [
              "'count()\\tReturns the number of times a specified value occurs in a string\\nencode()\\tReturns an encoded version of the string\\nendswith()\\tReturns true if the string ends with the specified value\\nexpandtabs()\\tSets the tab size of the string\\nfind()\\tSearches the string for a specified value and returns the position of where it was found\\nformat()\\tFormats specified values in a string\\nformat_map()\\tFormats specified values in a string\\nindex()\\tSearches the string for a specified value and returns the position of where it was found\\nisalnum()\\tReturns True if all characters in the string are alphanumeric\\nisalpha()\\tReturns True if all characters in the string are in the alphabet\\nisascii()\\tReturns True if all characters in the string are ascii characters\\nisdecimal()\\tReturns True if all characters in the string are decimals\\nisdigit()\\tReturns True if all characters in the string are digits\\nisidentifier()\\tReturns True if the string is an identifier\\nislower()\\tReturns True if all characters in the string are lower case\\nisnumeric()\\tReturns True if all characters in the string are numeric\\nisprintable()\\tReturns True if all characters in the string are printable\\nisspace()\\tReturns True if all characters in the string are whitespaces\\nistitle() \\tReturns True if the string follows the rules of a title\\nisupper()\\tReturns True if all characters in the string are upper case\\njoin()\\tJoins the elements of an iterable to the end of the string\\nljust()\\tReturns a left justified version of the string\\nlower()\\tConverts a string into lower case\\nlstrip()\\tReturns a left trim version of the string\\nmaketrans()\\tReturns a translation table to be used in translations\\npartition()\\tReturns a tuple where the string is parted into three parts\\nreplace()\\tReturns a string where a specified value is replaced with a specified value\\nrfind()\\tSearches the string for a specified value and returns the last position of where it was found\\nrindex()\\tSearches the string for a specified value and returns the last position of where it was found\\nrjust()\\tReturns a right justified version of the string\\nrpartition()\\tReturns a tuple where the string is parted into three parts\\nrsplit()\\tSplits the string at the specified separator, and returns a list\\nrstrip()\\tReturns a right trim version of the string\\nsplit()\\tSplits the string at the specified separator, and returns a list\\nsplitlines()\\tSplits the string at line breaks and returns a list\\nstartswith()\\tReturns true if the string starts with the specified value\\nstrip()\\tReturns a trimmed version of the string\\nswapcase()\\tSwaps cases, lower case becomes upper case and vice versa\\ntitle()\\tConverts the first character of each word to upper case\\ntranslate()\\tReturns a translated string\\nupper()\\tConverts a string into upper case\\nzfill()\\tFills the string with a specified number of 0 values at the beginning'"
            ],
            "application/vnd.google.colaboratory.intrinsic+json": {
              "type": "string"
            }
          },
          "metadata": {},
          "execution_count": 27
        }
      ]
    },
    {
      "cell_type": "code",
      "source": [
        "#Boolean Values\n",
        "\n",
        "#In programming you often need to know if an expression is True or False.\n",
        "\n",
        "#You can evaluate any expression in Python, and get one of two answers, True or False.\n",
        "\n",
        "#When you compare two values, the expression is evaluated and Python returns the Boolean answer:\n",
        "\n",
        "print(10 > 9)\n",
        "print(10 == 9)\n",
        "print(10 < 9)"
      ],
      "metadata": {
        "colab": {
          "base_uri": "https://localhost:8080/"
        },
        "id": "ne0wCplS3iWF",
        "outputId": "1ca8970a-19ef-45a9-ca66-3d76660606cd"
      },
      "execution_count": null,
      "outputs": [
        {
          "output_type": "stream",
          "name": "stdout",
          "text": [
            "True\n",
            "False\n",
            "False\n"
          ]
        }
      ]
    },
    {
      "cell_type": "code",
      "source": [
        "#Example 2 (using if else)\n",
        "\n",
        "a = 200\n",
        "b = 33\n",
        "\n",
        "if b > a:\n",
        "  print(\"b is greater than a\")\n",
        "else:\n",
        "  print(\"b is not greater than a\")"
      ],
      "metadata": {
        "colab": {
          "base_uri": "https://localhost:8080/"
        },
        "id": "gd4Uc2Ew3iZS",
        "outputId": "b16b688d-c341-4ee9-8d9b-210e10e86aca"
      },
      "execution_count": null,
      "outputs": [
        {
          "output_type": "stream",
          "name": "stdout",
          "text": [
            "b is not greater than a\n"
          ]
        }
      ]
    },
    {
      "cell_type": "code",
      "source": [
        "#Evaluate a string and a number:\n",
        "print(bool(\"Hello\"))\n",
        "print(bool(15))"
      ],
      "metadata": {
        "id": "OJwVvsvA7Hxm",
        "outputId": "d6209c2e-bfcb-43cf-a675-82773d246b6b",
        "colab": {
          "base_uri": "https://localhost:8080/"
        }
      },
      "execution_count": null,
      "outputs": [
        {
          "output_type": "stream",
          "name": "stdout",
          "text": [
            "True\n",
            "True\n"
          ]
        }
      ]
    },
    {
      "cell_type": "code",
      "source": [
        "#Evaluate two variables:\n",
        "x = \"Hello\"\n",
        "y = 15\n",
        "\n",
        "print(bool(x))\n",
        "print(bool(y))"
      ],
      "metadata": {
        "id": "sY0u2mIW3idH"
      },
      "execution_count": null,
      "outputs": []
    },
    {
      "cell_type": "code",
      "source": [],
      "metadata": {
        "id": "_Gtro10x3igw"
      },
      "execution_count": null,
      "outputs": []
    },
    {
      "cell_type": "code",
      "source": [],
      "metadata": {
        "id": "hEwj6FNP3inR"
      },
      "execution_count": null,
      "outputs": []
    },
    {
      "cell_type": "code",
      "source": [],
      "metadata": {
        "id": "SLHZAASm3iqk"
      },
      "execution_count": null,
      "outputs": []
    },
    {
      "cell_type": "code",
      "source": [
        "course = 'python for beginners'"
      ],
      "metadata": {
        "id": "F7Ki5dBYIcUF"
      },
      "execution_count": null,
      "outputs": []
    },
    {
      "cell_type": "code",
      "source": [
        "print(course)"
      ],
      "metadata": {
        "colab": {
          "base_uri": "https://localhost:8080/"
        },
        "id": "qcowO0V4IoKn",
        "outputId": "675bfa40-7dd2-40a5-a854-8a09f9b31197"
      },
      "execution_count": null,
      "outputs": [
        {
          "output_type": "stream",
          "name": "stdout",
          "text": [
            "python for beginners\n"
          ]
        }
      ]
    },
    {
      "cell_type": "code",
      "source": [
        "print(course.find('p'))"
      ],
      "metadata": {
        "colab": {
          "base_uri": "https://localhost:8080/"
        },
        "id": "Wa17RNpUIoN-",
        "outputId": "c9a1f7a8-ac11-4fae-e2f5-01db72a63c71"
      },
      "execution_count": null,
      "outputs": [
        {
          "output_type": "stream",
          "name": "stdout",
          "text": [
            "0\n"
          ]
        }
      ]
    },
    {
      "cell_type": "code",
      "source": [
        "print(course)"
      ],
      "metadata": {
        "colab": {
          "base_uri": "https://localhost:8080/"
        },
        "id": "JkaoKU46IoSR",
        "outputId": "36910344-c2c8-4a9d-e588-01362b9a6bf4"
      },
      "execution_count": null,
      "outputs": [
        {
          "output_type": "stream",
          "name": "stdout",
          "text": [
            "python for beginners\n"
          ]
        }
      ]
    },
    {
      "cell_type": "code",
      "source": [
        "x = \"awsome\"\n",
        "print(\"python is\" + x)"
      ],
      "metadata": {
        "colab": {
          "base_uri": "https://localhost:8080/"
        },
        "id": "Dm7R2n6BKBZ0",
        "outputId": "1c04ccc5-0336-4007-8638-e62074ccdfd2"
      },
      "execution_count": null,
      "outputs": [
        {
          "output_type": "stream",
          "name": "stdout",
          "text": [
            "python isawsome\n"
          ]
        }
      ]
    },
    {
      "cell_type": "code",
      "source": [
        "z = 2\n",
        "print(type(z))"
      ],
      "metadata": {
        "colab": {
          "base_uri": "https://localhost:8080/"
        },
        "id": "ZkvdK1BicU_F",
        "outputId": "42662494-21d6-4f64-be37-074b2de06eb8"
      },
      "execution_count": null,
      "outputs": [
        {
          "output_type": "stream",
          "name": "stdout",
          "text": [
            "<class 'int'>\n"
          ]
        }
      ]
    },
    {
      "cell_type": "code",
      "source": [
        "x = 35e3\n",
        "print(type(x))"
      ],
      "metadata": {
        "colab": {
          "base_uri": "https://localhost:8080/"
        },
        "id": "AxGFkivIcVBe",
        "outputId": "3713aea2-70c3-4786-a4d3-0d3cc506f03e"
      },
      "execution_count": null,
      "outputs": [
        {
          "output_type": "stream",
          "name": "stdout",
          "text": [
            "<class 'float'>\n"
          ]
        }
      ]
    },
    {
      "cell_type": "code",
      "source": [],
      "metadata": {
        "id": "pXeVBehncVEI"
      },
      "execution_count": null,
      "outputs": []
    },
    {
      "cell_type": "code",
      "source": [],
      "metadata": {
        "id": "3dbfGr42cVGD"
      },
      "execution_count": null,
      "outputs": []
    },
    {
      "cell_type": "code",
      "source": [],
      "metadata": {
        "id": "n1-oWgtmcVJb"
      },
      "execution_count": null,
      "outputs": []
    },
    {
      "cell_type": "code",
      "source": [],
      "metadata": {
        "id": "0Lk1HysacVPj"
      },
      "execution_count": null,
      "outputs": []
    },
    {
      "cell_type": "code",
      "source": [],
      "metadata": {
        "id": "LeYbGQe_KBc9"
      },
      "execution_count": null,
      "outputs": []
    },
    {
      "cell_type": "code",
      "source": [],
      "metadata": {
        "id": "-KDWJRyhKBgj"
      },
      "execution_count": null,
      "outputs": []
    },
    {
      "cell_type": "code",
      "source": [],
      "metadata": {
        "id": "hmdL6YfGKBju"
      },
      "execution_count": null,
      "outputs": []
    }
  ],
  "metadata": {
    "colab": {
      "provenance": [],
      "include_colab_link": true
    },
    "kernelspec": {
      "display_name": "Python 3",
      "name": "python3"
    }
  },
  "nbformat": 4,
  "nbformat_minor": 0
}