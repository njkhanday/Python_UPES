{
  "nbformat": 4,
  "nbformat_minor": 0,
  "metadata": {
    "colab": {
      "provenance": [],
      "authorship_tag": "ABX9TyOOJv0IFuYaxq7RfbSPADpu",
      "include_colab_link": true
    },
    "kernelspec": {
      "name": "python3",
      "display_name": "Python 3"
    },
    "language_info": {
      "name": "python"
    }
  },
  "cells": [
    {
      "cell_type": "markdown",
      "metadata": {
        "id": "view-in-github",
        "colab_type": "text"
      },
      "source": [
        "<a href=\"https://colab.research.google.com/github/njkhanday/Python_UPES/blob/main/M_Inhertance.ipynb\" target=\"_parent\"><img src=\"https://colab.research.google.com/assets/colab-badge.svg\" alt=\"Open In Colab\"/></a>"
      ]
    },
    {
      "cell_type": "code",
      "execution_count": 1,
      "metadata": {
        "colab": {
          "base_uri": "https://localhost:8080/"
        },
        "id": "ckaEbgqML9r_",
        "outputId": "e0044a6a-62cb-4993-c4a1-2829a421f570"
      },
      "outputs": [
        {
          "output_type": "stream",
          "name": "stdout",
          "text": [
            "I can eat\n",
            "I can work\n"
          ]
        }
      ],
      "source": [
        "class human:\n",
        "  def eat(self):\n",
        "    print(\"I can eat\")\n",
        "\n",
        "\n",
        "class male:\n",
        "  def work(self):\n",
        "    print(\"I can work\")\n",
        "\n",
        "\n",
        "class boy (human,male):\n",
        "  pass\n",
        "\n",
        "\n",
        "boy1= boy()\n",
        "boy1.eat()\n",
        "boy1.work()"
      ]
    },
    {
      "cell_type": "code",
      "source": [
        "#Hierarchy of classes: which class will be executed first\n",
        "\n",
        "\n",
        "\n",
        "class human:\n",
        "  def eat(self):\n",
        "    print(\"I can eat\")\n",
        "  def work(self):\n",
        "    print(\"I can code also\")\n",
        "\n",
        "\n",
        "class male:\n",
        "  def work(self):\n",
        "    print(\"I can work\")\n",
        "\n",
        "#class boy (male, human):\n",
        "class boy (human,male): #order matters\n",
        "  pass\n",
        "\n",
        "\n",
        "boy1= boy()\n",
        "boy1.eat()\n",
        "boy1.work()"
      ],
      "metadata": {
        "colab": {
          "base_uri": "https://localhost:8080/"
        },
        "id": "mao38q76NMSX",
        "outputId": "71128e13-fbec-43eb-db4b-332a5bb1308e"
      },
      "execution_count": 3,
      "outputs": [
        {
          "output_type": "stream",
          "name": "stdout",
          "text": [
            "I can eat\n",
            "I can work\n"
          ]
        }
      ]
    },
    {
      "cell_type": "code",
      "source": [
        "#2nd solution\n",
        "\n",
        "#Hierarchy of classes: which class will be executed first\n",
        "\n",
        "\n",
        "\n",
        "class human:\n",
        "  def eat(self):\n",
        "    print(\"I can eat\")\n",
        "  def work(self):\n",
        "    print(\"I can code also\")\n",
        "\n",
        "\n",
        "class male:\n",
        "  def work(self):\n",
        "    print(\"I can work\")\n",
        "\n",
        "#class boy (male, human):\n",
        "class boy (human,male): #order matters\n",
        "  def sleep(self):\n",
        "    print(\"I can sleep\")\n",
        "  def work(self):\n",
        "    print(\"I can Test\")\n",
        "\n",
        "\n",
        "boy1= boy()\n",
        "boy1.sleep()\n",
        "male.work(boy1)\n",
        "\n"
      ],
      "metadata": {
        "colab": {
          "base_uri": "https://localhost:8080/"
        },
        "id": "Ev6oGgkgOPGO",
        "outputId": "fefdef86-51ac-4302-b1f9-fb817f9e0f63"
      },
      "execution_count": 6,
      "outputs": [
        {
          "output_type": "stream",
          "name": "stdout",
          "text": [
            "I can sleep\n",
            "I can work\n"
          ]
        }
      ]
    },
    {
      "cell_type": "code",
      "source": [
        "#order of calling the methods\n",
        "\n",
        "\"\"\"\n",
        "\n",
        "ist in its own class then which is in ist order and then on second\n",
        "\n",
        "\n",
        "\"\"\"\n",
        "\n",
        "# we call it mro....method resoluation order\n",
        "\n",
        "\n",
        "\n",
        "\n"
      ],
      "metadata": {
        "id": "gERSyZryOPJu"
      },
      "execution_count": null,
      "outputs": []
    },
    {
      "cell_type": "code",
      "source": [
        "boy1.work()"
      ],
      "metadata": {
        "colab": {
          "base_uri": "https://localhost:8080/"
        },
        "id": "HeBBxjg_QocS",
        "outputId": "12baae89-5239-4ff8-a696-78dfae26c535"
      },
      "execution_count": 8,
      "outputs": [
        {
          "output_type": "stream",
          "name": "stdout",
          "text": [
            "I can Test\n"
          ]
        }
      ]
    },
    {
      "cell_type": "code",
      "source": [],
      "metadata": {
        "id": "YWJhGU24Qofk"
      },
      "execution_count": null,
      "outputs": []
    },
    {
      "cell_type": "code",
      "source": [
        "# to check this\n",
        "boy.mro()"
      ],
      "metadata": {
        "colab": {
          "base_uri": "https://localhost:8080/"
        },
        "id": "wVI2rMCkOPT6",
        "outputId": "1017c3ef-3aa1-4e92-9a3b-419dfb7ab178"
      },
      "execution_count": 7,
      "outputs": [
        {
          "output_type": "execute_result",
          "data": {
            "text/plain": [
              "[__main__.boy, __main__.human, __main__.male, object]"
            ]
          },
          "metadata": {},
          "execution_count": 7
        }
      ]
    },
    {
      "cell_type": "code",
      "source": [
        "\n",
        "#what if we have one work function\n",
        "\n",
        "\n",
        "\n",
        "class human:\n",
        "  def eat(self):\n",
        "    print(\"I can eat\")\n",
        "\n",
        "\n",
        "class male:\n",
        "  def work(self):\n",
        "    print(\"I can work\")\n",
        "\n",
        "\n",
        "class boy (human,male):\n",
        "  pass\n",
        "\n",
        "\n",
        "boy1= boy()\n",
        "#boy1.eat()\n",
        "boy1.work()"
      ],
      "metadata": {
        "colab": {
          "base_uri": "https://localhost:8080/"
        },
        "id": "RYpGk_vCQZwd",
        "outputId": "d827e158-252f-42b0-b3a9-b72aa87a6e75"
      },
      "execution_count": 10,
      "outputs": [
        {
          "output_type": "stream",
          "name": "stdout",
          "text": [
            "I can work\n"
          ]
        }
      ]
    },
    {
      "cell_type": "code",
      "source": [
        "# how to access attributes"
      ],
      "metadata": {
        "id": "3jIML34mSwqD"
      },
      "execution_count": null,
      "outputs": []
    },
    {
      "cell_type": "code",
      "source": [
        "class human:\n",
        "  def __init__(self):\n",
        "    self.num_eyes = 2\n",
        "    self.num_nose = 1\n",
        "\n",
        "  def eat(self):\n",
        "    print(\"I can eat\")\n",
        "\n",
        "\n",
        "class male:\n",
        "    def __init__(self, name):\n",
        "\n",
        "      self.name = name\n",
        "\n",
        "    def work(self):\n",
        "      print(\"I can work\")\n",
        "\n",
        "\n",
        "\n",
        "\n",
        "\n",
        "class boy (human,male):\n",
        "  pass\n",
        "\n",
        "\n",
        "boy1= boy()\n",
        "boy1.num_eyes\n",
        "#boy1.num_nose\n",
        "#boy1.name"
      ],
      "metadata": {
        "colab": {
          "base_uri": "https://localhost:8080/"
        },
        "id": "CSho17QnSwtS",
        "outputId": "8715cb92-552d-41cc-c126-550b47b5320c"
      },
      "execution_count": 15,
      "outputs": [
        {
          "output_type": "execute_result",
          "data": {
            "text/plain": [
              "2"
            ]
          },
          "metadata": {},
          "execution_count": 15
        }
      ]
    },
    {
      "cell_type": "code",
      "source": [],
      "metadata": {
        "id": "hL2A6zLvSwwi"
      },
      "execution_count": null,
      "outputs": []
    }
  ]
}